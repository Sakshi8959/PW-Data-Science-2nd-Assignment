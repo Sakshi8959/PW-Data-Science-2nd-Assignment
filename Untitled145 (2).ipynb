{
 "cells": [
  {
   "cell_type": "code",
   "execution_count": 1,
   "id": "2ad9b6c2-a9b8-4243-a1fb-76c58b2152b4",
   "metadata": {},
   "outputs": [
    {
     "name": "stdout",
     "output_type": "stream",
     "text": [
      "[1, 3, 5, 7, 9, 11, 13, 15, 17, 19, 21, 23]\n"
     ]
    }
   ],
   "source": [
    "'''Q1. Which keyword is used to create a function? Create a function to return a list of odd numbers in the\n",
    "range of 1 to 25'''\n",
    "# def is used for function creation \n",
    "l = []\n",
    "def func():\n",
    "    for i in range(1, 25):\n",
    "        if(i%2!=0):\n",
    "            l.append(i)\n",
    "    print(l)\n",
    "func()"
   ]
  },
  {
   "cell_type": "code",
   "execution_count": 2,
   "id": "ab2c2bc7-02e5-488c-9d1a-741ad323bfa3",
   "metadata": {},
   "outputs": [
    {
     "name": "stdout",
     "output_type": "stream",
     "text": [
      "10\n",
      "60\n",
      "name: Alice\n",
      "age: 30\n",
      "profession: Engineer\n"
     ]
    }
   ],
   "source": [
    "'''Q2. Why *args and **kwargs is used in some functions? Create a function each for *args and **kwargs\n",
    "to demonstrate their use.'''\n",
    "def sum_all(*args):\n",
    "    total = 0\n",
    "    for number in args:\n",
    "        total += number\n",
    "    return total\n",
    "\n",
    "# Example usage\n",
    "print(sum_all(1, 2, 3, 4))  # Output: 10\n",
    "print(sum_all(10, 20, 30))  # Output: 60\n",
    "\n",
    "def print_info(**kwargs):\n",
    "    for key, value in kwargs.items():\n",
    "        print(f\"{key}: {value}\")\n",
    "print_info(name=\"Alice\", age=30, profession=\"Engineer\")"
   ]
  },
  {
   "cell_type": "code",
   "execution_count": 3,
   "id": "e65772af-2890-4686-93ab-d9b1d704fac2",
   "metadata": {},
   "outputs": [
    {
     "name": "stdout",
     "output_type": "stream",
     "text": [
      "2\n",
      "4\n",
      "6\n",
      "8\n",
      "10\n"
     ]
    }
   ],
   "source": [
    "'''Q3. What is an iterator in python? Name the method used to initialise the iterator object and the method\n",
    "used for iteration. Use these methods to print the first five elements of the given list [2, 4, 6, 8, 10, 12, 14,\n",
    "16, 18, 20].'''\n",
    "my_list = [2, 4, 6, 8, 10, 12, 14, 16, 18, 20]\n",
    "\n",
    "iterator = iter(my_list)\n",
    "\n",
    "print(next(iterator))  # Output: 2\n",
    "print(next(iterator))  # Output: 4\n",
    "print(next(iterator))  # Output: 6\n",
    "print(next(iterator))  # Output: 8\n",
    "print(next(iterator))  # Output: 10\n",
    "\n"
   ]
  },
  {
   "cell_type": "code",
   "execution_count": 4,
   "id": "c4223870-b5d0-4e17-914b-a9fc66ddc55d",
   "metadata": {},
   "outputs": [
    {
     "name": "stdout",
     "output_type": "stream",
     "text": [
      "[8, 64, 125, 216, 512, 1000, 1728, 2744, 3375, 4096, 5832, 8000, 10648, 13824, 15625, 17576, 21952, 27000, 32768, 39304, 42875, 46656, 54872, 64000, 74088, 85184, 91125, 97336, 110592, 125000, 140608, 157464, 166375, 175616, 195112, 216000, 238328, 262144, 274625, 287496, 314432, 343000, 373248, 405224, 421875, 438976, 474552, 512000, 551368, 592704, 614125, 636056, 681472, 729000, 778688, 830584, 857375, 884736, 941192, 1000000]\n"
     ]
    }
   ],
   "source": [
    "'''What is a generator function in python? Why yield keyword is used? Give an example of a generator\n",
    "function.'''\n",
    "l = []\n",
    "for i in range(1, 101):\n",
    "    cube = i**3\n",
    "    if cube % 4 == 0 or cube % 5 == 0:\n",
    "        l.append(cube)\n",
    "\n",
    "print(l)\n"
   ]
  },
  {
   "cell_type": "code",
   "execution_count": 5,
   "id": "b7199121-1216-432a-b199-b7f5dd9ed09f",
   "metadata": {},
   "outputs": [
    {
     "name": "stdout",
     "output_type": "stream",
     "text": [
      "Count of vowel is : 12\n",
      "Count of vowels is: 12\n"
     ]
    }
   ],
   "source": [
    "'''Q5. Create a generator function for prime numbers less than 1000. Use the next() method to print the\n",
    "first 20 prime numbers.t\"'''\n",
    "s = \"I want to become a data scientist\"\n",
    "count =0;\n",
    "for i in s:\n",
    "    if(i=='a' or i=='e' or i=='i' or i=='o' or i=='u' or i=='I'):\n",
    "        count+=1;\n",
    "print(\"Count of vowel is :\",count)\n",
    "s1 = \"I want to become a data scientist\"\n",
    "count = 0\n",
    "vowels = \"aeiouAEIOU\"\n",
    "\n",
    "for i in s1:\n",
    "    if i in vowels:\n",
    "        count += 1\n",
    "\n",
    "print(\"Count of vowels is:\", count)\n"
   ]
  },
  {
   "cell_type": "code",
   "execution_count": 1,
   "id": "6dc3cc21-3976-49da-941d-4aa8caba400d",
   "metadata": {},
   "outputs": [
    {
     "name": "stdout",
     "output_type": "stream",
     "text": [
      "0\n",
      "1\n",
      "1\n",
      "2\n",
      "3\n",
      "5\n",
      "8\n",
      "13\n",
      "21\n",
      "34\n"
     ]
    }
   ],
   "source": [
    "n = 10\n",
    "a,b =0,1\n",
    "def fib(a,b,n):\n",
    "    if n>0:\n",
    "        c = a+b;\n",
    "        print(c)\n",
    "        fib(b,c,n-1)\n",
    "print(a)\n",
    "print(b)\n",
    "fib(a,b,n-2)\n"
   ]
  },
  {
   "cell_type": "code",
   "execution_count": 5,
   "id": "d4a1ecf8-8ee5-4d3f-887b-0463e975cb6e",
   "metadata": {},
   "outputs": [
    {
     "name": "stdout",
     "output_type": "stream",
     "text": [
      "0\n",
      "1\n",
      "1\n",
      "2\n",
      "3\n",
      "5\n",
      "8\n",
      "13\n",
      "21\n",
      "34\n"
     ]
    }
   ],
   "source": [
    "n = 10\n",
    "a, b = 0, 1\n",
    "print(a)\n",
    "print(b)\n",
    "count = 2\n",
    "while count < n:\n",
    "    c = a + b\n",
    "    print(c)\n",
    "    a, b = b, c\n",
    "    count += 1\n"
   ]
  },
  {
   "cell_type": "code",
   "execution_count": null,
   "id": "729acaf9-715a-4c09-a395-678cc46e93ee",
   "metadata": {},
   "outputs": [],
   "source": [
    "n = int(input(\"enter number :\")) #212\n",
    "real = n\n",
    "rev = 0\n",
    "def palind(n):\n",
    "    rev = 0\n",
    "    while n>0:\n",
    "        digit = n%10\n",
    "        rev = (rev*10)+digit\n",
    "        n/10\n",
    "    return rev\n",
    "palind(n)\n",
    "if real == rev:\n",
    "    print(f\"{number} is a palindrome.\")\n",
    "else:\n",
    "    print(f\"{number} is not a palindrome.\")"
   ]
  },
  {
   "cell_type": "code",
   "execution_count": null,
   "id": "93304f2e-705a-4ad3-a532-31c81d7ff3bd",
   "metadata": {},
   "outputs": [],
   "source": []
  }
 ],
 "metadata": {
  "kernelspec": {
   "display_name": "Python 3 (ipykernel)",
   "language": "python",
   "name": "python3"
  },
  "language_info": {
   "codemirror_mode": {
    "name": "ipython",
    "version": 3
   },
   "file_extension": ".py",
   "mimetype": "text/x-python",
   "name": "python",
   "nbconvert_exporter": "python",
   "pygments_lexer": "ipython3",
   "version": "3.11.7"
  }
 },
 "nbformat": 4,
 "nbformat_minor": 5
}
